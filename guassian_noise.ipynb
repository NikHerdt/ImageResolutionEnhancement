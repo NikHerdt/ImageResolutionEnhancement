{
 "cells": [
  {
   "cell_type": "markdown",
   "metadata": {},
   "source": [
    "## Add guassian noise to preprocessed images\n",
    "### import modules"
   ]
  },
  {
   "cell_type": "code",
   "execution_count": 3,
   "metadata": {},
   "outputs": [],
   "source": [
    "import numpy as np\n",
    "import matplotlib.pyplot as plt\n",
    "import cv2\n",
    "import pydicom"
   ]
  },
  {
   "cell_type": "markdown",
   "metadata": {},
   "source": [
    "### Adding noise"
   ]
  },
  {
   "cell_type": "code",
   "execution_count": null,
   "metadata": {},
   "outputs": [],
   "source": [
    "# add gaussian noise to images in photos folder using numpy and cv2\n",
    "def add_gaussian_noise(image):\n",
    "    row, col, ch = image.shape\n",
    "    mean = 0\n",
    "    var = 0.1\n",
    "    sigma = var ** 0.5\n",
    "    gaussian = np.random.normal(mean, sigma, (row, col, ch))\n",
    "    gaussian = gaussian.reshape(row, col, ch)\n",
    "    noisy_image = image + gaussian\n",
    "    return noisy_image"
   ]
  },
  {
   "cell_type": "code",
   "execution_count": null,
   "metadata": {},
   "outputs": [],
   "source": [
    "image = cv2.imread('Processed Images/x')\n",
    "\n",
    "mean = 0\n",
    "var = 0.1\n",
    "sigma = var ** 0.5\n",
    "gaussian = np.random.normal(mean, sigma, image.shape)\n",
    "noisy_image = cv2.add(image, gaussian)"
   ]
  }
 ],
 "metadata": {
  "kernelspec": {
   "display_name": ".venv",
   "language": "python",
   "name": "python3"
  },
  "language_info": {
   "codemirror_mode": {
    "name": "ipython",
    "version": 3
   },
   "file_extension": ".py",
   "mimetype": "text/x-python",
   "name": "python",
   "nbconvert_exporter": "python",
   "pygments_lexer": "ipython3",
   "version": "3.13.0"
  }
 },
 "nbformat": 4,
 "nbformat_minor": 2
}
