{
 "cells": [
  {
   "cell_type": "code",
   "execution_count": null,
   "metadata": {},
   "outputs": [],
   "source": [
    "import numpy as np\n",
    "import matplotlib.pyplot as plt\n",
    "import cv2\n",
    "import SimpleITK as sitk\n",
    "import time \n",
    "import sys\n",
    "import os "
   ]
  },
  {
   "cell_type": "code",
   "execution_count": null,
   "metadata": {},
   "outputs": [],
   "source": [
    "# Load the DICOM image\n",
    "file_path = \"Photos/Unknown.dcm\"\n",
    "image = sitk.ReadImage(file_path)\n",
    "\n",
    "# Save image metadata\n",
    "metadata = {}\n",
    "for key in image.GetMetaDataKeys():\n",
    "    metadata[key] = image.GetMetaData(key)\n",
    "\n",
    "# Convert the SimpleITK image to a numpy array\n",
    "img = sitk.GetArrayFromImage(image)[0]"
   ]
  },
  {
   "cell_type": "code",
   "execution_count": null,
   "metadata": {},
   "outputs": [],
   "source": [
    "# Convert to grayscale if the image is in color\n",
    "if len(img.shape) == 3:\n",
    "    gray_img = cv2.cvtColor(img, cv2.COLOR_BGR2GRAY)\n",
    "else:\n",
    "    gray_img = img\n",
    "\n",
    "# Preprocessing: enhance contrast and smooth\n",
    "gray_img = cv2.normalize(gray_img, None, 0, 255, cv2.NORM_MINMAX).astype(np.uint8)\n",
    "blurred_img = cv2.GaussianBlur(gray_img, (5, 5), 0)\n",
    "\n",
    "# Threshold to create a binary image\n",
    "_, binary_img = cv2.threshold(blurred_img, 10, 255, cv2.THRESH_BINARY)\n",
    "\n",
    "# Detect contours in the binary image\n",
    "contours, _ = cv2.findContours(binary_img, cv2.RETR_EXTERNAL, cv2.CHAIN_APPROX_SIMPLE)\n",
    "\n",
    "# Filter contours: keep only large regions and exclude rectangular text/overlays\n",
    "filtered_contours = []\n",
    "for contour in contours:\n",
    "    x, y, w, h = cv2.boundingRect(contour)\n",
    "    aspect_ratio = w / float(h)\n",
    "\n",
    "    # Conditions to filter out text or rectangular overlays:\n",
    "    # - Exclude small areas that are likely text\n",
    "    # - Keep contours that are large or have irregular shapes\n",
    "    if cv2.contourArea(contour) > 100750 and (0.5 < aspect_ratio < 5.0):  # Adjust these thresholds as needed\n",
    "        filtered_contours.append(contour)\n",
    "\n",
    "# Create a mask to isolate only the main ultrasound shape\n",
    "ultrasound_mask = np.zeros_like(binary_img)\n",
    "cv2.drawContours(ultrasound_mask, filtered_contours, -1, 255, thickness=cv2.FILLED)\n",
    "\n",
    "# Apply the mask to keep only the filtered regions\n",
    "isolated_ultrasound = cv2.bitwise_and(gray_img, gray_img, mask=ultrasound_mask)"
   ]
  },
  {
   "cell_type": "code",
   "execution_count": null,
   "metadata": {},
   "outputs": [],
   "source": [
    "# Display results\n",
    "plt.figure(figsize=(15, 5))\n",
    "\n",
    "plt.subplot(131)\n",
    "plt.imshow(gray_img, cmap='gray')\n",
    "plt.title('Original Grayscale Image')\n",
    "plt.xticks([]), plt.yticks([])\n",
    "\n",
    "plt.subplot(132)\n",
    "plt.imshow(ultrasound_mask, cmap='gray')\n",
    "plt.title('Mask of Main Ultrasound Shape')\n",
    "plt.xticks([]), plt.yticks([])\n",
    "\n",
    "plt.subplot(133)\n",
    "plt.imshow(isolated_ultrasound, cmap='gray')\n",
    "plt.title('Isolated Ultrasound without Text/Overlays')\n",
    "plt.xticks([]), plt.yticks([])\n",
    "\n",
    "plt.show()\n"
   ]
  }
 ],
 "metadata": {
  "kernelspec": {
   "display_name": ".venv",
   "language": "python",
   "name": "python3"
  },
  "language_info": {
   "codemirror_mode": {
    "name": "ipython",
    "version": 3
   },
   "file_extension": ".py",
   "mimetype": "text/x-python",
   "name": "python",
   "nbconvert_exporter": "python",
   "pygments_lexer": "ipython3",
   "version": "3.12.7"
  }
 },
 "nbformat": 4,
 "nbformat_minor": 2
}
