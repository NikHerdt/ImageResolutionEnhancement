{
 "cells": [
  {
   "cell_type": "code",
   "execution_count": 4,
   "metadata": {},
   "outputs": [],
   "source": [
    "import torch\n",
    "import numpy as np\n",
    "import pandas as pd\n",
    "import matplotlib.pyplot as plt\n",
    "from torch import nn\n",
    "from torchvision.models import resnet18\n",
    "\n",
    "from sklearn.model_selection import train_test_split"
   ]
  },
  {
   "cell_type": "code",
   "execution_count": 21,
   "metadata": {},
   "outputs": [],
   "source": [
    "# Set up data split\n",
    "image_paths = pd.read_csv('image_paths.csv')\n",
    "\n",
    "# Split data into training and testing\n",
    "train_paths, test_paths = train_test_split(image_paths, test_size=0.2)"
   ]
  },
  {
   "cell_type": "code",
   "execution_count": null,
   "metadata": {},
   "outputs": [],
   "source": [
    "# Load the model\n",
    "model = resnet18(pretrained=True)\n",
    "model.fc = nn.Linear(512, 2)\n",
    "\n",
    "# Load the data\n",
    "def load_image(path):\n",
    "    return plt.imread(path)\n",
    "\n",
    "def load_data(paths):\n",
    "    images = np.array([load_image(path) for path in paths])\n",
    "    images = torch.tensor(images, dtype=torch.float32)\n",
    "    return images\n",
    "\n",
    "train_images = load_data(train_paths['path'])\n",
    "train_labels = torch.tensor(train_paths['label'].values, dtype=torch.long)\n",
    "\n",
    "test_images = load_data(test_paths['path'])\n",
    "test_labels = torch.tensor(test_paths['label'].values, dtype=torch.long)\n",
    "\n",
    "# Train the model\n",
    "criterion = nn.CrossEntropyLoss()\n",
    "optimizer = torch.optim.Adam(model.parameters(), lr=0.001)\n",
    "\n",
    "for epoch in range(10):\n",
    "    optimizer.zero_grad()\n",
    "    outputs = model(train_images)\n",
    "    loss = criterion(outputs, train_labels)\n",
    "    loss.backward()\n",
    "    optimizer.step()\n",
    "\n",
    "    print(f'Epoch {epoch} loss: {loss.item()}')\n",
    "\n",
    "# Test the model\n",
    "with torch.no_grad():\n",
    "    outputs = model(test_images)\n",
    "    _, predicted = torch.max(outputs, 1)\n",
    "    correct = (predicted == test_labels).sum().item()\n",
    "    total = test_labels.size(0)\n",
    "    print(f'Accuracy: {correct / total * 100}%')\n",
    "\n",
    "# Save the model\n",
    "torch.save(model.state_dict(), 'model.pth')"
   ]
  }
 ],
 "metadata": {
  "kernelspec": {
   "display_name": ".venv",
   "language": "python",
   "name": "python3"
  },
  "language_info": {
   "codemirror_mode": {
    "name": "ipython",
    "version": 3
   },
   "file_extension": ".py",
   "mimetype": "text/x-python",
   "name": "python",
   "nbconvert_exporter": "python",
   "pygments_lexer": "ipython3",
   "version": "3.12.7"
  }
 },
 "nbformat": 4,
 "nbformat_minor": 2
}
